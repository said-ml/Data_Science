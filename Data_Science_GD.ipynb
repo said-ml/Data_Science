{
 "cells": [
  {
   "cell_type": "code",
   "execution_count": 100,
   "id": "9db79fe9",
   "metadata": {},
   "outputs": [],
   "source": [
    "from bs4 import BeautifulSoup\n",
    "import requests\n",
    "\n",
    "# I put the relevant HTML file on GitHub. In order to fit\n",
    "# the URL in the book I had to split it across two lines.\n",
    "# Recall that whitespace-separated strings get concatenated.\n",
    "url = (\"https://raw.githubusercontent.com/\"\n",
    "       \"joelgrus/data/master/getting-data.html\")\n",
    "html = requests.get(url).text\n",
    "soup = BeautifulSoup(html, 'html5lib')"
   ]
  },
  {
   "cell_type": "code",
   "execution_count": 12,
   "id": "193b5455",
   "metadata": {},
   "outputs": [
    {
     "data": {
      "text/plain": [
       "'This is the first paragraph.'"
      ]
     },
     "execution_count": 12,
     "metadata": {},
     "output_type": "execute_result"
    }
   ],
   "source": [
    "first_paragraph=soup.find('p')   # or just soup(p)\n",
    "first_paragraph_text=soup.p.text\n",
    "first_paragraph_text\n",
    "first_paragraph_words=soup.p.text.split()\n",
    "first_paragraph_words"
   ]
  },
  {
   "cell_type": "code",
   "execution_count": 35,
   "id": "254b7432",
   "metadata": {},
   "outputs": [],
   "source": [
    "first_paragrasph_id=soup.p['id']\n",
    "first_paragrasph_id\n",
    "first_paragrasph_id2=soup.p.get('id')\n",
    "first_paragrasph_id2\n",
    "assert first_paragrasph_id==first_paragrasph_id2=='p1'"
   ]
  },
  {
   "cell_type": "code",
   "execution_count": 38,
   "id": "f8c6575f",
   "metadata": {},
   "outputs": [],
   "source": [
    "first_paragraph = soup.find('p')        # or just soup.p\n",
    "\n",
    "\n",
    "assert str(soup.find('p')) == '<p id=\"p1\">This is the first paragraph.</p>'\n",
    "\n",
    "first_paragraph_text = soup.p.text\n",
    "first_paragraph_words = soup.p.text.split()\n",
    "\n",
    "\n",
    "assert first_paragraph_words == ['This', 'is', 'the', 'first', 'paragraph.']\n",
    "\n",
    "first_paragraph_id = soup.p['id']       # raises KeyError if no 'id'\n",
    "first_paragraph_id2 = soup.p.get('id')  # returns None if no 'id'"
   ]
  },
  {
   "cell_type": "code",
   "execution_count": 30,
   "id": "269a9424",
   "metadata": {},
   "outputs": [
    {
     "data": {
      "text/plain": [
       "[<p id=\"p1\">This is the first paragraph.</p>]"
      ]
     },
     "execution_count": 30,
     "metadata": {},
     "output_type": "execute_result"
    }
   ],
   "source": []
  },
  {
   "cell_type": "code",
   "execution_count": 44,
   "id": "b9eafb97",
   "metadata": {},
   "outputs": [
    {
     "data": {
      "text/plain": [
       "[<p class=\"important\">This is the second paragraph.</p>]"
      ]
     },
     "execution_count": 44,
     "metadata": {},
     "output_type": "execute_result"
    }
   ],
   "source": [
    "all_paragraphs = soup.find_all('p')  # or just soup('p')\n",
    "paragraphs_with_ids = [p for p in soup('p') if p.get('class') or  ]\n",
    "paragraphs_with_ids = [p for p in soup('p') if p.get('class') or  ]\n",
    "paragraphs_with_ids\n",
    "#assert len(paragraphs_with_ids)==1"
   ]
  },
  {
   "cell_type": "code",
   "execution_count": 53,
   "id": "761b5ada",
   "metadata": {},
   "outputs": [],
   "source": [
    "importants_paragraphs=soup('p',{'class', 'important'})\n",
    "importants_paragraphs\n",
    "important_paragraph2=soup('p', 'important')\n",
    "important_paragraph2\n",
    "important_paragraph3=[P for P in soup('p') if 'important' in P.get('class',[])]\n",
    "important_paragraph3\n",
    "assert important_paragraph2==importants_paragraphs==important_paragraph3"
   ]
  },
  {
   "cell_type": "code",
   "execution_count": 59,
   "id": "0305e68e",
   "metadata": {},
   "outputs": [
    {
     "data": {
      "text/plain": [
       "[<span id=\"name\">Joel</span>,\n",
       " <span id=\"twitter\">@joelgrus</span>,\n",
       " <span id=\"email\">joelgrus-at-gmail</span>]"
      ]
     },
     "execution_count": 59,
     "metadata": {},
     "output_type": "execute_result"
    }
   ],
   "source": [
    "spans_inside_divs=[span\n",
    "                  for div in soup('div')    #  for each <div> in the page\n",
    "                  for span in div('span')]   # for each <span> in the div\n",
    "spans_inside_divs\n",
    "assert len(spans_inside_divs)==3"
   ]
  },
  {
   "cell_type": "markdown",
   "id": "ee843f76",
   "metadata": {},
   "source": [
    "# Example:O'reilly Book About Data"
   ]
  },
  {
   "cell_type": "code",
   "execution_count": 61,
   "id": "49ea2707",
   "metadata": {},
   "outputs": [
    {
     "data": {
      "text/plain": [
       "<!DOCTYPE html>\n",
       "<html lang=\"en\"><head>\n",
       "    \n",
       "    <meta charset=\"utf-8\"/>\n",
       "    <meta content=\"width=device-width, initial-scale=1\" name=\"viewport\"/>\n",
       "    <meta content=\"#B9002D\" name=\"theme-color\"/>\n",
       "    \n",
       "\n",
       "    \n",
       "        <link as=\"style\" href=\"/search/dist/orm.c78545e10917af9a31c6.css\" rel=\"preload\"/>\n",
       "        <link as=\"style\" href=\"/search/dist/main.1b074e0c67d0da3008c8.css\" rel=\"preload\"/>\n",
       "        <link as=\"font\" crossorigin='\"anonymous\"' href=\"https://cdn.oreillystatic.com/fonts/GuardianText/GuardianTextSans-Medium-Web.woff2\" rel=\"preload\" type=\"font/woff2\"/>\n",
       "        <link as=\"font\" crossorigin='\"anonymous\"' href=\"https://cdn.oreillystatic.com/fonts/GuardianText/GuardianTextSans-Regular-Web.woff2\" rel=\"preload\" type=\"font/woff2\"/>\n",
       "    \n",
       "\n",
       "    <link href=\"//www.oreilly.com/favicon.ico\" rel=\"shortcut icon\"/>\n",
       "\n",
       "      <title>Search</title>\n",
       "\n",
       "    \n",
       "        <link href=\"/search/dist/orm.c78545e10917af9a31c6.css\" rel=\"stylesheet\"/>\n",
       "        <link href=\"/search/dist/main.1b074e0c67d0da3008c8.css\" rel=\"stylesheet\"/>\n",
       "    \n",
       "    \n",
       "    \n",
       "\n",
       "      <script src=\"https://www.datadoghq-browser-agent.com/datadog-rum-us.js\" type=\"text/javascript\"></script>\n",
       "      <script type=\"text/javascript\">\n",
       "        if (window.DD_RUM) {\n",
       "          DD_RUM.init({\n",
       "            clientToken: 'pub6c6047e16a039821eccb84b73b72f4ce',\n",
       "            applicationId: 'd635a68b-ae3b-477d-9bc6-e1fec1d2af45',\n",
       "            sampleRate: Number('' || 10)\n",
       "          });\n",
       "          DD_RUM.addRumGlobalContext('service', 'search_frontend-browser');\n",
       "          DD_RUM.addRumGlobalContext('env', 'production');\n",
       "        }\n",
       "      </script>\n",
       "    <script type=\"text/javascript\">\n",
       "      // NB: some ORM content contains close script tags as strings and trips up the browser's HTML parser\n",
       "      window.initialStoreData = {\"environment\":{\"origin\":\"https://internal-ingress.platform.gcp.oreilly.com\",\"env\":\"production\",\"nodeEnv\":\"production\",\"apiPath\":\"/api/web/search\",\"ingressedPaths\":[\"/search\"],\"basePath\":\"/search\",\"publicPath\":\"/search/dist/\",\"routerBasePath\":\"/search\"},\"ldFeatureFlags\":{\"_loadingState\":\"SUCCESS\",\"_error\":null,\"aBadFlagname\":false,\"allEventsPage\":false,\"allowReaderPagingIos\":false,\"androidEnableAmplitude\":true,\"androidEnableFullstory\":false,\"androidEnableMarketingCloudSdk\":false,\"anonymizationThrottling\":{\"batch_delay_seconds\":0,\"batch_size\":null},\"answersExcludeVideo\":false,\"askForReviewsIos\":true,\"assignmentsBffGraphql\":true,\"audiobooksInsightDashboardEnabled\":false,\"betaSegmentNote\":false,\"boostForAuthorAndPublisherQueries\":false,\"cacheSearchResultsInSessionStorage\":false,\"certificationsHidePracticeExams\":false,\"certificationsPartnerOutage\":false,\"certificationsShowPeLink\":false,\"chassisHelloToggle\":false,\"classifyLiveEventSeriesFromContentMessages\":true,\"conferencesDroid\":true,\"contentPlaygroundPrototype\":true,\"contentSearchExperiment\":false,\"copyHighlightLink\":true,\"cowbirdDontPrefetchTopics\":false,\"disableIngestionPortal\":{\"disable_portal\":false,\"disable_ftp_processing\":false},\"disableLocalTrainingNotificationsIos\":false,\"disableViewNotebook\":false,\"displayJalapenoPoppers\":true,\"displayNewEmailPreferences\":false,\"displayOneTrustEmbed\":false,\"displayVerticalFilters\":false,\"dsExperienceTest\":\"\",\"enableLocalTesting\":false,\"enableNone\":false,\"enableAmplitudeIos\":true,\"enableAnswersClient\":false,\"enableBookmarks\":false,\"enableCloudScenarios\":true,\"enableCloudScenariosHomeModule\":false,\"enableCloudScenariosInternal\":true,\"enableContentPlaygroundFrontend\":false,\"enableCrashlyticsIos\":false,\"enableDatadogIos\":false,\"enableDocumentClient\":false,\"enableEmailDeliverabilityCheck\":true,\"enableEmailverifyappApi\":true,\"enableEpubDiffProcessing\":true,\"enableFeedbackLink\":false,\"enableFirebaseIos\":false,\"enableFsOnSearch\":false,\"enableFullAudiobooksExperience\":true,\"enableFullstoryIos\":true,\"enableHomepage\":false,\"enableInvitationsFe\":true,\"enableJonesTest\":false,\"enableLargeMessagesLoon\":true,\"enableLargeMessagesVmsIngestion\":true,\"enableLocaltest\":false,\"enableLocaltest93\":false,\"enableMagpieImagesOnCerts\":true,\"enableMedsGrootEtSync\":true,\"enableMisoSearchColorThemes\":false,\"enableMuiNavBrowseMenu\":false,\"enableNavigationRedesign\":false,\"enableNewB2BSubscribe\":true,\"enableNewRegisterPage\":true,\"enableNewSignupPage\":false,\"enableNewSubscribePage\":false,\"enableOptimizeMultiselect\":true,\"enableOrmChromeExtension\":false,\"enablePauseSubscriptionPage\":false,\"enablePayPalChoiceButtonInNewPaymentsClient\":true,\"enablePaymentsPriceTiers\":false,\"enablePdsV1AlphaContentIngestionMessages\":true,\"enablePdsV1AlphaProductIngestionMessages\":true,\"enablePubSubCompletionMessages\":false,\"enableRatePlanCallouts\":true,\"enableRokuFiretv\":false,\"enableSemiAnnualPlan\":false,\"enableSignup\":true,\"enableSpeedReaderInSearch\":false,\"enableStructuredLearningReport\":true,\"enableTeamSetupPage\":false,\"enableThreeMonthPlan\":true,\"enableTimeBasedUsageAndroid\":false,\"enableTimeBasedUsageAndroidV2\":true,\"enableTimeBasedUsageIos\":false,\"enableTopicGraphV1AlphaContentIngestionMessages\":true,\"enableTvApps\":false,\"enableUpdatedTimeBasedUsageIos\":true,\"enableUserManagement\":true,\"enableUserManagementClient\":false,\"enableVideoCourses\":true,\"enableWebsite\":false,\"enableWorkbooks\":false,\"enableYourAccountLink\":true,\"enabledThirdPartyAuthProviders\":[\"facebook\",\"corporate\",\"twitter\",\"google-oauth2\",\"linkedin-oauth2\",\"apple-id\"],\"falconCisUrls\":false,\"falconCisUrlsForLp\":false,\"falconLpRefidUrl\":true,\"feChassisHelloEnableConfirm\":false,\"focusSearchBarShortcut\":false,\"happeningNow\":true,\"happeningNowEndpoint\":false,\"helloBetaCrossApp\":false,\"heronHandlesPaymentErrors\":false,\"heronReaderIgnoreUsageIsComplete\":false,\"homeEnableAnswersAnimation\":false,\"interactiveContent\":true,\"interactivePracticeExamDropdownFilterEnabled\":true,\"jupyterNotebookInSearch\":false,\"jupyterV1Web\":true,\"labsMvpTemplate\":false,\"labsOrmStaff\":false,\"lake\":false,\"learningPathsDroid\":true,\"liveEventAppearInRecentlyAdded\":true,\"liveEventEmailNotifications\":true,\"liveEventPermissions\":false,\"liveEventSfisRecommendations\":true,\"liveEventsCardEnhancements\":true,\"liveEventsEnableCaching\":false,\"logLowRecaptchaScores\":0.5,\"magpieIngestsFromProductMessage\":false,\"manyToManySsoDevTools\":false,\"marcShowBanner\":false,\"maxPasswordResetsPerTimePeriod\":{\"time_period_seconds\":3600,\"max_attempts\":2},\"maxPaymentAttemptsPerTimePeriod\":{\"max_attempts\":20,\"time_period_seconds\":86400},\"moreSearchResultTypes\":false,\"multilateralFederatedAuthIntegrationAnybird\":true,\"multilateralFederatedAuthIntegrationFe\":false,\"oreillyLabs\":false,\"paymentsClientShowComparePlansLink\":false,\"paymentsClientShowYourDevicesLink\":false,\"pearsonInteractiveInside\":false,\"playlistAccountSharing\":true,\"playlistPracticeExams\":true,\"practiceExamsInSearch\":true,\"publicPlaylistsAndroid\":true,\"rainbowHeadlines\":true,\"redirectLegacyOauthCompletions\":true,\"redirectResultsWithWebUrl\":true,\"removeConflictChecking\":true,\"sandboxScenariosInSearch\":true,\"searchBarVariation\":\"{\\\"experiment\\\": \\\"None\\\", \\\"variation\\\": \\\"None\\\"}\",\"searchJudgement\":false,\"searchRelevanceTuning\":{\"highlight\":false,\"pqf\":{\"title_unstemmed\":900,\"topic_keywords\":600,\"topic_names\":1000,\"chapter_title_unstemmed\":2000,\"content_unstemmed\":2000},\"qf\":{\"topic_names\":50,\"chapter_title\":100,\"chapter_title_unstemmed\":100,\"content\":100,\"title\":50,\"topic_keywords\":50},\"tie\":0.6,\"boost\":\"if(termfreq(content_type,'chapter'),1.5,1)\",\"collapse\":true},\"seatCountMismatchThresholds\":{\"seat_capacity_percentage\":0.95,\"difference_percentage\":0.05},\"selfRegistrationRollout\":false,\"sendCanonProductMessage\":true,\"sendDeviceTokensToMarketingCloud\":false,\"sendTransactionalEmails\":true,\"sfmcAccountContactEvent\":true,\"shouldCauseCrashIos\":false,\"shouldProfileShowSalesforceSuggestions\":true,\"shouldUseUnifiedHistoryIos\":false,\"showInternalToolsIos\":false,\"showLinkAppleIcon\":true,\"showPaymentsNotificationAlert\":false,\"showRemainingDuration\":true,\"showReminderBarPerLd\":false,\"showScenariosInSearch\":true,\"showSearchResultTopic\":true,\"showUserDetails\":true,\"solrFieldAlias\":false,\"syncGrootPasswords\":true,\"teachBeta\":true,\"titlesPerUserInput\":true,\"topicGraphClassifiedUseNew\":true,\"topicsV2ViewContentCounts\":false,\"universalContentViewerConfig\":{\"/learning-paths/\":true,\"/library/view/\":true,\"/videos/\":true},\"useJsonFacetsInSerp\":true,\"useMisoSearchEndpoint\":false,\"useMultiselectFacetsInSerp\":false,\"useNewInvitationUrls\":true,\"userManagementUpdates\":true,\"validateInteractivityProxyUrl\":false,\"videoCoursesPhase3\":true,\"videoIntestionServiceUseTranscriptionService\":true,\"visAutoTranscription\":{\"prefixes\":[\"9781491964149\",\"9781491944363\",\"9781491932643\",\"9781491942352\",\"9781492026075\",\"9781491976227\",\"9781491919163\",\"9781491921685\",\"9781491963937\",\"9781491979297\",\"9781491932148\",\"9781491995952\",\"9781491985472\",\"9781491934777\",\"9781491932636\"]},\"vmsGetJsonFromTranscriptService\":true,\"whatIsJupyterNotebookLink\":true},\"jwt\":{\"_loadingState\":\"FAILURE\",\"_error\":\"No jwt on request.\"},\"navigationAndAnnouncements\":{\"announcements\":[],\"links\":{\"header\":[{\"name\":\"Enterprise\",\"link\":\"/enterprise/\",\"icon\":\"\",\"description\":\"\",\"groups\":[\"header\"],\"children\":[]},{\"name\":\"Pricing\",\"link\":\"/pricing/\",\"icon\":\"\",\"description\":\"\",\"groups\":[\"header\"],\"children\":[]}],\"footer\":[{\"name\":\"About O’Reilly\",\"link\":\"/about/\",\"icon\":\"\",\"description\":\"\",\"groups\":[\"footer\"],\"children\":[]},{\"name\":\"Teach/write/train\",\"link\":\"/work-with-us.html\",\"icon\":\"\",\"description\":\"\",\"groups\":[\"footer\"],\"children\":[]},{\"name\":\"Careers\",\"link\":\"/careers/\",\"icon\":\"\",\"description\":\"\",\"groups\":[\"footer\"],\"children\":[]},{\"name\":\"Community partners\",\"link\":\"/partner/signup.csp\",\"icon\":\"\",\"description\":\"\",\"groups\":[\"footer\"],\"children\":[]},{\"name\":\"Affiliate program\",\"link\":\"/affiliates/\",\"icon\":\"\",\"description\":\"\",\"groups\":[\"footer\"],\"children\":[]},{\"name\":\"Diversity\",\"link\":\"/diversity/\",\"icon\":\"\",\"description\":\"\",\"groups\":[\"footer\"],\"children\":[]},{\"name\":\"Support\",\"link\":\"/online-learning/support/\",\"icon\":\"\",\"description\":\"\",\"groups\":[\"footer\"],\"children\":[]},{\"name\":\"Contact us\",\"link\":\"/about/contact.html\",\"icon\":\"\",\"description\":\"\",\"groups\":[\"footer\"],\"children\":[]},{\"name\":\"Newsletters\",\"link\":\"https://www.oreilly.com/emails/newsletters/\",\"icon\":\"\",\"description\":\"\",\"groups\":[\"footer\"],\"children\":[]}],\"fineprint\":[{\"name\":\"Terms of Service\",\"link\":\"https://www.oreilly.com/terms/\",\"icon\":\"\",\"description\":\"\",\"groups\":[\"fineprint\"],\"children\":[]},{\"name\":\"Privacy Policy\",\"link\":\"/privacy\",\"icon\":\"\",\"description\":\"\",\"groups\":[\"fineprint\"],\"children\":[]},{\"name\":\"Editorial Independence\",\"link\":\"/about/editorial_independence.html\",\"icon\":\"\",\"description\":\"\",\"groups\":[\"fineprint\"],\"children\":[]}],\"social\":[{\"name\":\"Twitter\",\"link\":\"https://twitter.com/oreillymedia\",\"icon\":\"twitter\",\"description\":\"\",\"groups\":[\"social\"],\"children\":[]},{\"name\":\"Facebook\",\"link\":\"https://www.facebook.com/OReilly\",\"icon\":\"facebook\",\"description\":\"\",\"groups\":[\"social\"],\"children\":[]},{\"name\":\"LinkedIn\",\"link\":\"https://www.linkedin.com/company/oreilly-media\",\"icon\":\"linkedin\",\"description\":\"\",\"groups\":[\"social\"],\"children\":[]},{\"name\":\"YouTube\",\"link\":\"https://www.youtube.com/user/OreillyMedia\",\"icon\":\"youtube\",\"description\":\"\",\"groups\":[\"social\"],\"children\":[]}]}},\"playlistsCoreState\":{\"mostRecentPlaylistIds\":[],\"playlists\":{\"error\":\"\",\"eTag\":\"\",\"fetching\":true,\"loaded\":false,\"playlists\":[],\"sharingEnabled\":false},\"playlistActions\":{\"updatingSharing\":false,\"sharingErrors\":{}},\"playlistSSR\":{\"error\":\"\",\"fetching\":false,\"loaded\":false,\"playlist\":{}},\"sharedPlaylist\":{\"error\":\"\",\"fetching\":false,\"loaded\":false,\"playlist\":{}}},\"user\":{\"error\":\"User is not authenticated\"},\"userInfo\":{\"meta\":{\"error\":\"User is not authenticated\"},\"profile\":{\"error\":null},\"usageStatus\":{\"error\":null}},\"userProfile\":{\"_loadingState\":\"INITIAL\"},\"availablePoppers\":{\"data\":{\"facets\":{\"facet_fields\":{\"format\":{\"article\":0,\"audiobook\":0,\"book\":0,\"certs practice exam\":0,\"journal\":0,\"learning path\":0,\"live online training\":0,\"notebook\":0,\"playlists\":0,\"sandbox\":0,\"scenario\":0,\"video\":0},\"video_classification\":{}}}},\"error\":null,\"status\":\"INITIAL\"},\"judgements\":{\"judgementActive\":false},\"poppers\":{\"activePopper\":\"All\"},\"reportsState\":{\"batchReports\":[],\"titleReports\":{},\"usersReport\":{},\"batchReportsIsFetching\":false,\"batchReportsDidError\":false,\"titleReportsIsFetching\":false,\"titleReportsDidError\":false,\"createReviewIsTrying\":false,\"createReviewDidSucceed\":false,\"createReviewDidError\":false,\"deleteReviewIsTrying\":false,\"deleteReviewDidSucceed\":false,\"deleteReviewDidError\":false},\"relevance\":{\"fetchError\":null,\"postError\":null,\"fetchLoading\":false,\"postLoading\":false,\"relevanceData\":null},\"appState\":{\"queryUrl\":\"/search/\",\"data\":null,\"facets\":{},\"poppers\":{},\"error\":null,\"loading\":true,\"user\":{\"user_identifier\":\"\",\"primary_account\":\"\",\"academic_institution\":false}},\"searchState\":{\"queryJson\":{},\"queryUrl\":\"/search/\"},\"liveEventsState\":{\"error\":\"\",\"fetching\":true,\"loaded\":false,\"liveEvents\":{}}};\n",
       "    </script>\n",
       "    <script type=\"text/javascript\">\n",
       "      window.orm = window.orm || {};\n",
       "      \n",
       "      window.orm.redirect = function redirect(url) {\n",
       "        window.location.assign(url);\n",
       "      };\n",
       "      window.orm.logger = console;\n",
       "      \n",
       "    </script>\n",
       "\n",
       "    \n",
       "\n",
       "      <script src=\"//fast.appcues.com/48743.js\"></script>\n",
       "\n",
       "\n",
       "      <script>\n",
       "        // Disable analytics when hit from DD synthetics browser\n",
       "        if (window._DATADOG_SYNTHETICS_BROWSER === undefined) {\n",
       "          if (window.initialStoreData && window.initialStoreData.userInfo.meta\n",
       "            && window.initialStoreData.userInfo.meta.user_identifier) {\n",
       "            var user = window.initialStoreData.userInfo.meta;\n",
       "            var dataLayer = window.dataLayer || [];\n",
       "\n",
       "            // Set user/session info\n",
       "            dataLayer.push({ userIdentifier: user.user_identifier });\n",
       "            dataLayer.push({ loggedIn: 'yes' });\n",
       "\n",
       "            // Set account/org info\n",
       "            if (!user.individual) {\n",
       "              dataLayer.push({ orgID: user.primary_account });\n",
       "            }\n",
       "\n",
       "            // Set account type\n",
       "            if (user.individual) {\n",
       "              if (user.subscription && user.subscription.active) {\n",
       "                dataLayer.push({learningAccountType: 'individual'});\n",
       "              } else if (user.is_trial) {\n",
       "                dataLayer.push({learningAccountType: 'free trial'});\n",
       "              }\n",
       "            } else {\n",
       "              if (user.academic_institution) {\n",
       "                dataLayer.push({learningAccountType: 'academic'});\n",
       "              } else {\n",
       "                dataLayer.push({learningAccountType: 'enterprise'});\n",
       "              }\n",
       "            }\n",
       "\n",
       "            // Set paid account\n",
       "            if (user.subscription && user.subscription.active) {\n",
       "              dataLayer.push({ learningPaidAccount: 'yes' });\n",
       "            }\n",
       "          }\n",
       "\n",
       "          (function(w,d,s,l,i){w[l]=w[l]||[];w[l].push({'gtm.start':\n",
       "            new Date().getTime(),event:'gtm.js'});var f=d.getElementsByTagName(s)[0],\n",
       "            j=d.createElement(s),dl=l!='dataLayer'?'&l='+l:'';j.async=true;j.src=\n",
       "            'https://www.googletagmanager.com/gtm.js?id='+i+dl;f.parentNode.insertBefore(j,f);\n",
       "          })(window,document,'script','dataLayer', 'GTM-5P4V6Z');\n",
       "        }\n",
       "      </script>\n",
       "\n",
       "    \n",
       "      \n",
       "        <script defer=\"\" src=\"/search/dist/orm.5fd91ea9d460efc2cdb0.js\"></script>\n",
       "      \n",
       "      <script defer=\"\" src=\"/search/dist/main.3e6cff6ee526297fb248.js\"></script>\n",
       "    \n",
       "\n",
       "    \n",
       "    \n",
       "  </head>\n",
       "  <body>\n",
       "      <noscript>\n",
       "        <iframe height=\"0\" src=\"https://www.googletagmanager.com/ns.html?id=GTM-5P4V6Z\" style=\"display:none;visibility:hidden\" width=\"0\"></iframe>\n",
       "      </noscript>\n",
       "    <div id=\"root\"><div class=\"orm-ff-Shell-anonShell__wrapper\"><a class=\"orm-ff-Shell-skipLink\" href=\"#main\">Skip to content</a><header class=\"orm-ff-AnonymousNavigation-root orm-ff-AnonymousNavigation-noBoxShadow\" data-testid=\"orm-ff-anonymous-navigation\"><div class=\"orm-ff-AnonymousNavigation-navMenu\"><div class=\"orm-ff-AnonymousNavigation-newLogo__bg\"><div class=\"orm-ff-AnonymousNavigation-newLogo__container\" data-testid=\"nav-logo\"><a data-testid=\"anon-nav-logo\" href=\"/\" title=\"home page\"><img alt=\"O'Reilly home\" class=\"orm-ff-AnonymousNavigation-newLogo__image\" src=\"https://cdn.oreillystatic.com/images/sitewide-headers/oreilly_logo_mark_red.svg\"/></a></div></div></div><div class=\"orm-ff-AnonymousNavigation-mobile__wrapper\"><div class=\"orm-ff-SearchBarMobileMenu-root\"><div><button aria-label=\"search\" class=\"orm-Button-root orm-ff-SearchBarMobileMenu-searchMobileMenuButton orm-ff-AnonymousNavigation-searchMobileMenu__button\"><span class=\"orm-Button-btnContentWrap\"><span class=\"orm-Icon-root\" data-testid=\"icon\" style=\"height:1.5rem\"><span aria-hidden=\"true\" class=\"orm-Icon-icon orm-icon-search\" style=\"font-size:1.5rem;width:1.5rem;height:1.5rem\"></span><span class=\"orm-Icon-title\">search</span></span></span></button><div></div></div></div><div class=\"orm-ff-AnonymousNavigationMobileMenu-root\"><div><button aria-expanded=\"false\" aria-label=\"open menu\" class=\"orm-Button-root orm-ff-AnonymousNavigationMobileMenu-anonNavMobileMenu__button orm-ff-AnonymousNavigation-menuMobileMenu__button orm-ff-AnonymousNavigation-menuMobileMenu__button\"><span class=\"orm-Button-btnContentWrap\"><span class=\"orm-Icon-root\" data-testid=\"icon\" style=\"height:1.5rem\"><span aria-hidden=\"true\" class=\"orm-Icon-icon orm-icon-menu\" style=\"font-size:1.5rem;width:1.5rem;height:1.5rem\"></span><span class=\"orm-Icon-title\">menu</span></span></span></button><div></div></div></div></div></header><main class=\"orm-ff-Shell-main orm-ff-Shell-collapsedMain\" id=\"main\" tabindex=\"-1\"><div class=\"Search--W1dqz\" data-testid=\"search\"><div class=\"anonContainer--Bgr0y\" data-container=\"true\" data-testid=\"searchContainer\"><header data-search-header=\"true\"></header><section class=\"Results--amUWr\" data-search-results=\"false\"><div class=\"orm-LoadingModule-loading\"><span class=\"orm-LoadingODot-oDot_wrapper\" data-testid=\"loadingODot\"><span class=\"orm-LoadingODot-oDotRing orm-LoadingODot-oDotRing_small orm-LoadingODot-oDotRing__animate\"><span class=\"orm-LoadingODot-oDotOverRing_svg\"><svg viewBox=\"0 0 100 100\" x=\"0px\" y=\"0px\"><circle class=\"orm-LoadingODot-oDotRing_circle orm-LoadingODot-oDotRing_red orm-LoadingODot-oDotOverRing_circle\" cx=\"50\" cy=\"50\" r=\"40\"></circle></svg></span><span class=\"orm-LoadingODot-oDotMidRing_svg orm-LoadingODot-oDotMidRing_svg__animate\"><svg viewBox=\"0 0 100 100\" x=\"0px\" y=\"0px\"><circle class=\"orm-LoadingODot-oDotRing_circle orm-LoadingODot-oDotRing_red\" cx=\"50\" cy=\"50\" r=\"40\"></circle></svg></span><span class=\"orm-LoadingODot-oDotUnderRing_svg\"><svg viewBox=\"0 0 100 100\" x=\"0px\" y=\"0px\"><circle class=\"orm-LoadingODot-oDotRing_circle orm-LoadingODot-oDotRing_red\" cx=\"50\" cy=\"50\" r=\"40\"></circle></svg></span></span><span class=\"orm-LoadingODot-oDot orm-LoadingODot-oDot_small\"><svg viewBox=\"0 0 100 100\" x=\"0px\" y=\"0px\"><circle class=\"orm-LoadingODot-oDot_circle orm-LoadingODot-oDot_red\" cx=\"50\" cy=\"50\" r=\"40\"></circle></svg></span></span><p class=\"orm-LoadingModule-loading__headline\">Give us a second, please.</p><p class=\"orm-LoadingModule-loading__subtitle\">The waiting is the hardest part.</p></div></section><footer data-search-pagination=\"true\"></footer></div></div></main><footer class=\"orm-ff-AnonymousFooter-root orm-ff-Shell-anonFooter\" data-testid=\"orm-ff-anonymous-footer\" role=\"contentinfo\"><div class=\"orm-Grid-root orm-container\"><div class=\"orm-row orm-Grid-root\"><ul class=\"orm-Grid-root orm-ff-AnonymousFooter-textLinks orm-ff-AnonymousFooter-textLinksUl orm-col-medium-8 orm-col-small-960-8 orm-col-small-8 orm-col-xsmall-600-8 orm-col-xsmall-4\"><li><a href=\"/about/\">About O’Reilly</a></li><li><a href=\"/work-with-us.html\">Teach/write/train</a></li><li><a href=\"/careers/\">Careers</a></li><li><a href=\"/partner/signup.csp\">Community partners</a></li><li><a href=\"/affiliates/\">Affiliate program</a></li><li><a href=\"/diversity/\">Diversity</a></li><li><a href=\"/online-learning/support/\">Support</a></li><li><a href=\"/about/contact.html\">Contact us</a></li><li><a href=\"https://www.oreilly.com/emails/newsletters/\">Newsletters</a></li></ul><div class=\"orm-Grid-root orm-ff-AnonymousFooter-iconLinks orm-col-medium-4 orm-col-small-960-4 orm-col-small-4 orm-col-xsmall-600-8 orm-col-xsmall-4\"><ul><li><a href=\"https://twitter.com/oreillymedia\"><span class=\"orm-Icon-root\" data-testid=\"icon\" style=\"height:1.5rem\"><span aria-hidden=\"true\" class=\"orm-Icon-icon orm-icon-twitter\" style=\"font-size:1.5rem;width:1.5rem;height:1.5rem\"></span><span class=\"orm-Icon-title\">twitter</span></span></a></li><li><a href=\"https://www.facebook.com/OReilly\"><span class=\"orm-Icon-root\" data-testid=\"icon\" style=\"height:1.5rem\"><span aria-hidden=\"true\" class=\"orm-Icon-icon orm-icon-facebook\" style=\"font-size:1.5rem;width:1.5rem;height:1.5rem\"></span><span class=\"orm-Icon-title\">facebook</span></span></a></li><li><a href=\"https://www.linkedin.com/company/oreilly-media\"><span class=\"orm-Icon-root\" data-testid=\"icon\" style=\"height:1.5rem\"><span aria-hidden=\"true\" class=\"orm-Icon-icon orm-icon-linkedin\" style=\"font-size:1.5rem;width:1.5rem;height:1.5rem\"></span><span class=\"orm-Icon-title\">linkedin</span></span></a></li><li><a href=\"https://www.youtube.com/user/OreillyMedia\"><span class=\"orm-Icon-root\" data-testid=\"icon\" style=\"height:1.5rem\"><span aria-hidden=\"true\" class=\"orm-Icon-icon orm-icon-youtube\" style=\"font-size:1.5rem;width:1.5rem;height:1.5rem\"></span><span class=\"orm-Icon-title\">youtube</span></span></a></li><li><a href=\"https://www.oreilly.com/emails/newsletters/\"><span class=\"orm-Icon-root\" data-testid=\"icon\" style=\"height:1.5rem\"><span aria-hidden=\"true\" class=\"orm-Icon-icon orm-icon-email\" style=\"font-size:1.5rem;width:1.5rem;height:1.5rem\"></span><span class=\"orm-Icon-title\">email</span></span></a></li></ul></div></div><div class=\"orm-row orm-Grid-root\"><div class=\"orm-Grid-root orm-col-medium-8 orm-col-small-960-8 orm-col-small-8 orm-col-xsmall-600-8 orm-col-xsmall-4\"><div class=\"orm-ff-AnonymousFooter-copyright\">© <!-- -->2022<!-- --> O’Reilly Media, Inc. All trademarks and registered trademarks appearing on oreilly.com are the property of their respective owners.</div><div class=\"orm-ff-AnonymousFooter-smallLinks\"><ul><li><a href=\"https://www.oreilly.com/terms/\">Terms of Service</a></li><li><a href=\"/privacy\">Privacy Policy</a></li><li><a href=\"/about/editorial_independence.html\">Editorial Independence</a></li></ul></div></div></div></div></footer></div></div>\n",
       "  \n",
       "\n",
       "</body></html>"
      ]
     },
     "execution_count": 61,
     "metadata": {},
     "output_type": "execute_result"
    }
   ],
   "source": [
    "# you don't have to split the url like this unless it needs to fit in a book\n",
    "url = \"http://shop.oreilly.com/category/browse-subjects/\" + \\\n",
    "\"data.do?sortby=publicationDate&page=1\"\n",
    "soup = BeautifulSoup(requests.get(url).text, 'html5lib')"
   ]
  },
  {
   "cell_type": "code",
   "execution_count": 80,
   "id": "1b941070",
   "metadata": {},
   "outputs": [
    {
     "data": {
      "text/plain": [
       "[<li><a href=\"/about/\">About O’Reilly</a></li>,\n",
       " <li><a href=\"/work-with-us.html\">Teach/write/train</a></li>,\n",
       " <li><a href=\"/careers/\">Careers</a></li>,\n",
       " <li><a href=\"/partner/signup.csp\">Community partners</a></li>,\n",
       " <li><a href=\"/affiliates/\">Affiliate program</a></li>,\n",
       " <li><a href=\"/diversity/\">Diversity</a></li>,\n",
       " <li><a href=\"/online-learning/support/\">Support</a></li>,\n",
       " <li><a href=\"/about/contact.html\">Contact us</a></li>,\n",
       " <li><a href=\"https://www.oreilly.com/emails/newsletters/\">Newsletters</a></li>,\n",
       " <li><a href=\"https://twitter.com/oreillymedia\"><span class=\"orm-Icon-root\" data-testid=\"icon\" style=\"height:1.5rem\"><span aria-hidden=\"true\" class=\"orm-Icon-icon orm-icon-twitter\" style=\"font-size:1.5rem;width:1.5rem;height:1.5rem\"></span><span class=\"orm-Icon-title\">twitter</span></span></a></li>,\n",
       " <li><a href=\"https://www.facebook.com/OReilly\"><span class=\"orm-Icon-root\" data-testid=\"icon\" style=\"height:1.5rem\"><span aria-hidden=\"true\" class=\"orm-Icon-icon orm-icon-facebook\" style=\"font-size:1.5rem;width:1.5rem;height:1.5rem\"></span><span class=\"orm-Icon-title\">facebook</span></span></a></li>,\n",
       " <li><a href=\"https://www.linkedin.com/company/oreilly-media\"><span class=\"orm-Icon-root\" data-testid=\"icon\" style=\"height:1.5rem\"><span aria-hidden=\"true\" class=\"orm-Icon-icon orm-icon-linkedin\" style=\"font-size:1.5rem;width:1.5rem;height:1.5rem\"></span><span class=\"orm-Icon-title\">linkedin</span></span></a></li>,\n",
       " <li><a href=\"https://www.youtube.com/user/OreillyMedia\"><span class=\"orm-Icon-root\" data-testid=\"icon\" style=\"height:1.5rem\"><span aria-hidden=\"true\" class=\"orm-Icon-icon orm-icon-youtube\" style=\"font-size:1.5rem;width:1.5rem;height:1.5rem\"></span><span class=\"orm-Icon-title\">youtube</span></span></a></li>,\n",
       " <li><a href=\"https://www.oreilly.com/emails/newsletters/\"><span class=\"orm-Icon-root\" data-testid=\"icon\" style=\"height:1.5rem\"><span aria-hidden=\"true\" class=\"orm-Icon-icon orm-icon-email\" style=\"font-size:1.5rem;width:1.5rem;height:1.5rem\"></span><span class=\"orm-Icon-title\">email</span></span></a></li>,\n",
       " <li><a href=\"https://www.oreilly.com/terms/\">Terms of Service</a></li>,\n",
       " <li><a href=\"/privacy\">Privacy Policy</a></li>,\n",
       " <li><a href=\"/about/editorial_independence.html\">Editorial Independence</a></li>]"
      ]
     },
     "execution_count": 80,
     "metadata": {},
     "output_type": "execute_result"
    }
   ],
   "source": [
    "lis=soup('li')\n",
    "lis\n",
    "#len(lis)"
   ]
  },
  {
   "cell_type": "code",
   "execution_count": 89,
   "id": "a51e9f59",
   "metadata": {},
   "outputs": [
    {
     "data": {
      "text/plain": [
       "<html><head></head><body>\n",
       "<div class=\"thumbcontainer\">\n",
       "<div class=\"thumbdiv\">\n",
       "<a href=\"/product/9781118903407.do\"><img src=\"...\"/>\n",
       "</a>\n",
       "</div>\n",
       "</div>\n",
       "<div class=\"widthchange\">\n",
       "<div class=\"thumbheader\">\n",
       "<a href=\"/product/9781118903407.do\">Getting a Big Data Job For Dummies</a>\n",
       "</div>\n",
       "<div class=\"AuthorName\">By Jason Williamson</div>\n",
       "<span class=\"directorydate\">\n",
       "</span>\n",
       "<div style=\"clear:both;\">\n",
       "<div id=\"146350\">\n",
       "<span class=\"pricelabel\">\n",
       "<span class=\"price\"> $29.99</span>\n",
       "</span>\n",
       "</div>\n",
       "</div>\n",
       "</div>\n",
       "\n",
       "</body></html>"
      ]
     },
     "execution_count": 89,
     "metadata": {},
     "output_type": "execute_result"
    }
   ],
   "source": [
    "text='''\n",
    "\n",
    "<td class=\"thumbtext\">\n",
    "<div class=\"thumbcontainer\">\n",
    "<div class=\"thumbdiv\">\n",
    "<a href=\"/product/9781118903407.do\"><img src=\"...\"/>\n",
    "</a>\n",
    "</div>\n",
    "</div>\n",
    "<div class=\"widthchange\">\n",
    "<div class=\"thumbheader\">\n",
    "<a href=\"/product/9781118903407.do\">Getting a Big Data Job For Dummies</a>\n",
    "</div>\n",
    "<div class=\"AuthorName\">By Jason Williamson</div>\n",
    "<span class=\"directorydate\">\n",
    "</span>\n",
    "<div style=\"clear:both;\">\n",
    "<div id=\"146350\">\n",
    "<span class=\"pricelabel\">\n",
    "<span class=\"price\">&nbsp;$29.99</span>\n",
    "</span>\n",
    "</div>\n",
    "</div>\n",
    "</div>\n",
    "</td>\n",
    "'''\n",
    "text\n",
    "soup=BeautifulSoup(text,'html5lib')\n",
    "soup"
   ]
  },
  {
   "cell_type": "code",
   "execution_count": 93,
   "id": "364dd544",
   "metadata": {},
   "outputs": [
    {
     "name": "stdout",
     "output_type": "stream",
     "text": [
      "0\n"
     ]
    }
   ],
   "source": [
    "divs=soup('td', 'thumbtext')\n",
    "print(len(divs))"
   ]
  },
  {
   "cell_type": "code",
   "execution_count": 115,
   "id": "7d3d8438",
   "metadata": {},
   "outputs": [],
   "source": [
    "from bs4 import BeautifulSoup\n",
    "def paragraph_mentions(text:str, keyword:str)->bool:\n",
    "    ''' return true if the <p>' inside the text mentions '''\n",
    "    soup=BeautifulSoup(text, 'html5lib')\n",
    "    paragraphs=[ p.get_text() for p in soup('p')]\n",
    "    return any(keyword.lower() in paragraph.lower()\n",
    "               for paragraph in paragraphs)\n",
    "text = \"\"\"<body><h1>Facebook</h1><p>Twitter</p>\"\"\"\n",
    "assert paragraph_mentions(text, 'twitter') # is inside a <p>\n",
    "assert not paragraph_mentions(text, 'FaceBook')\n"
   ]
  },
  {
   "cell_type": "code",
   "execution_count": 71,
   "id": "b91561cb",
   "metadata": {},
   "outputs": [],
   "source": [
    "import json\n",
    "serialized = \"\"\"{ \"title\" : \"Data Science Book\",\n",
    "                  \"author\" : \"Joel Grus\",\n",
    "                  \"publicationYear\" : 2019,\n",
    "                  \"topics\" : [ \"data\", \"science\", \"data science\"] }\"\"\"\n",
    "# parse the json to create a python dictionary\n",
    "deserialized=json.loads(serialized)\n",
    "assert deserialized[\"publicationYear\"]==2019\n",
    "assert 'data science' in deserialized['topics']\n",
    "from bs4 import BeautifulSoup\n",
    "def paragraph_mentions(text:str, keyword:str)->bool:\n",
    "    ''' return true if the <p>' inside the text mentions '''\n",
    "    soup=BeautifulSoup(text, 'html5lib')\n",
    "    paragraphs=[ p.get_text() for p in soup('p')]\n",
    "    return any(keyword.lower() in paragraph.lower()\n",
    "               for paragraph in paragraphs)\n",
    "def main():\n",
    "    from bs4 import BeautifulSoup\n",
    "    import requests\n",
    "    import re\n",
    "    url = \"https://www.house.gov/representatives\"\n",
    "    text=requests.get(url).text\n",
    "    soup=BeautifulSoup(text,'html5lib')\n",
    "    all_urls=[a['href']\n",
    "             for a in soup('a')\n",
    "             if a.has_attr('href')]\n",
    "    # Must start with http:// or https://\n",
    "    # Must end with .house.gov or .house.gov/\n",
    "    regex = r'^https?://.*\\.house\\.gov/?$'\n",
    "    # let's write some tests:\n",
    "    assert re.match(regex, \"http://joel.house.gov\")\n",
    "    assert re.match(regex, \"https://joel.house.gov\")\n",
    "    assert re.match(regex, \"http://joel.house.gov/\")\n",
    "    assert re.match(regex, \"https://joel.house.gov/\")\n",
    "    assert not re.match(regex, \"joel.house.gov\")\n",
    "    assert not re.match(regex, \"http://joel.house.com\")\n",
    "    assert not re.match(regex, \"https://joel.house.gov/biography\")\n",
    "    # and now apply\n",
    "    good_urls=[url for url in all_urls if re.match(regex, url)]\n",
    "    num_original_good_urls=len(good_urls)\n",
    "    good_urls=list(set(good_urls))\n",
    "    assert len(good_urls)<num_original_good_urls\n",
    "    html = requests.get('https://jayapal.house.gov').text\n",
    "    soup = BeautifulSoup(html, 'html5lib')\n",
    "    # use a set because links appears multiple times\n",
    "    links = {a['href'] for a in soup('a') if 'press releases' in a.text.lower()}\n",
    "    # I don't want this file to scrape all 400+ websites every time it runs.\n",
    "    # So I'm going to randomly throw out most of the urls.\n",
    "    # The code in the book doesn't do this\n",
    "    import random\n",
    "    good_urls=random.sample(good_urls, 5)\n",
    "    from typing import Dict, Set\n",
    "    press_realeses:Dict[str, Set[str]]={}\n",
    "    for house_url in good_urls:\n",
    "        html=requests.get(house_url).text\n",
    "        soup=BeautifulSoup(html, 'html5lib')\n",
    "        pr_links={a['href']for a in soup('a') if 'press_realeses' in a.text.lower()}\n",
    "        press_realeses[house_url]=pr_links\n",
    "    for house_url, pr_links in press_realeses.items():\n",
    "        for pr_link in pr_links:\n",
    "            url = f\"{house_url}/{pr_link}\"\n",
    "            print(url)\n",
    "            text = requests.get(url).text\n",
    "            if paragraph_mentions(text, 'data'):\n",
    "                print(f\"{house_url}\")\n",
    "                break  # done with this house_url \n",
    "    import requests, json\n",
    "    github_user = \"joelgrus\"\n",
    "    endpoint = f\"https://api.github.com/users/{github_user}/repos\"\n",
    "    repos=json.loads(requests.get(endpoint).text)\n",
    "    from collections import Counter\n",
    "    from dateutil.parser import parse\n",
    "    dates=[spare(repo('created_at')) for repo in repos]\n",
    "    months_counts=Counter(date.month() for date in dates)\n",
    "    weeks_counts=Counter(date.weekday() for date in dates)\n",
    "    last_5_reposteries=sorted(repos, key=lambda r:r['pushed at'], \n",
    "                             reverse=True)[:5]\n",
    "    last_5_langages=[repo['languges'] for repo in last_5_reposteries]\n",
    "    # feel to plug your key and your secret directly\n",
    "    import os\n",
    "     # Feel free to plug your key and secret in directly\n",
    "    CONSUMER_KEY = os.environ.get(\"TWITTER_CONSUMER_KEY\")\n",
    "    CONSUMER_SECRET = os.environ.get(\"TWITTER_CONSUMER_SECRET\")"
   ]
  },
  {
   "cell_type": "code",
   "execution_count": 77,
   "id": "ac16d5bb",
   "metadata": {},
   "outputs": [
    {
     "name": "stdout",
     "output_type": "stream",
     "text": [
      "None\n"
     ]
    }
   ],
   "source": [
    "# Tutorirl parser.parse\n",
    "from dateutil.parser import parse\n",
    "parse(\"Today is about January 1, 2047 at 8:21:05:AM\", fuzzy_with_tokens=True)\n",
    "import os\n",
    " # Feel free to plug your key and secret in directly\n",
    "CONSUMER_KEY = os.environ.get(\"TWITTER_CONSUMER_KEY\")\n",
    "CONSUMER_SECRET = os.environ.get(\"TWITTER_CONSUMER_SECRET\")\n",
    "print(CONSUMER_SECRET)\n"
   ]
  },
  {
   "cell_type": "code",
   "execution_count": null,
   "id": "3a682f2f",
   "metadata": {},
   "outputs": [],
   "source": []
  },
  {
   "cell_type": "code",
   "execution_count": null,
   "id": "41d4faa8",
   "metadata": {},
   "outputs": [],
   "source": []
  },
  {
   "cell_type": "code",
   "execution_count": null,
   "id": "ed4e59c7",
   "metadata": {},
   "outputs": [],
   "source": []
  }
 ],
 "metadata": {
  "kernelspec": {
   "display_name": "Python 3 (ipykernel)",
   "language": "python",
   "name": "python3"
  },
  "language_info": {
   "codemirror_mode": {
    "name": "ipython",
    "version": 3
   },
   "file_extension": ".py",
   "mimetype": "text/x-python",
   "name": "python",
   "nbconvert_exporter": "python",
   "pygments_lexer": "ipython3",
   "version": "3.10.4"
  }
 },
 "nbformat": 4,
 "nbformat_minor": 5
}
